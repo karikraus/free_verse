{
 "cells": [
  {
   "cell_type": "markdown",
   "metadata": {},
   "source": [
    "## Generating Free Verse with Markovify\n",
    "\n",
    "We've already seen in a previous notebook how to generate sentences using [markovify](https://github.com/jsvine/markovify) and an entire novel(!!) using [markov-novel](https://github.com/accraze/python-markov-novel). In this short notebook, I'll show you how to adapt markovify in order to also generate free verse. \n",
    "\n",
    "To work with this notebook locally on your own machine in your own Jupyter environment, you'll need to download this .ipynb file, as well as both .txt files (\"moon_poetry.txt\" and \"sea_poetry.txt\"). You'll also need to install markovify if you haven't already. \n",
    "\n",
    "One potential way to make markov-generated poetry more semantically coherent is to build the model on top of a thematic corpus, which is to say a corpus of poems all devoted to a similar subject, such as love, nature, illness, war, peace, etc. I've started a \"Datasets\" Page on our Elms site that includes a link to the [Kaggle poetry dataset](https://www.kaggle.com/michaelarman/poemsdataset). This dataset, which has been released into the public domain, is organized by poetic type and theme. I've consolidated all the lunar poems into a single file to make it easy to work with them, and done the same for the nautical poems. \n",
    "\n",
    "Let's first take a look at the \"moon\" poetry corpus. We'll use what should by now be familiar syntax to open and read our file:"
   ]
  },
  {
   "cell_type": "code",
   "execution_count": null,
   "metadata": {},
   "outputs": [],
   "source": [
    "pip install markovify #install markovify if you haven't already"
   ]
  },
  {
   "cell_type": "code",
   "execution_count": null,
   "metadata": {},
   "outputs": [],
   "source": [
    "moon_poetry = open(\"moon_poetry.txt\").read()"
   ]
  },
  {
   "cell_type": "markdown",
   "metadata": {},
   "source": [
    "We can use the Python print() function to display the dataset in our notebook. Since we've assigned the entire moon corpus to the variable \"moon_poetry,\" our print command is succinct:"
   ]
  },
  {
   "cell_type": "code",
   "execution_count": null,
   "metadata": {},
   "outputs": [],
   "source": [
    "print(moon_poetry)"
   ]
  },
  {
   "cell_type": "markdown",
   "metadata": {},
   "source": [
    "Now let's markovify it to generate new lines of poetry using Markov chains. I've annotated the block of code below so you can get a better sense of what's happening. Run the code cell to output seven lines of free verse:"
   ]
  },
  {
   "cell_type": "code",
   "execution_count": null,
   "metadata": {},
   "outputs": [],
   "source": [
    "import markovify #import the markovify library\n",
    "\n",
    "# Build the model, which uses \"markovify.NewlineText\" instead of the previous \"markovify.Text\"\n",
    "#\"markovify.Text\" has as its main unit of composition the sentence,\n",
    "#wheareas \"markovify.NewlineText\" has the poetic line as the main unit of composition\n",
    "#Note the use of \"moon_poetry\" as our variable, which holds our entire moon poetry corpus\n",
    "text_model = markovify.NewlineText(moon_poetry)\n",
    "\n",
    "# Print seven randomly-generated poetic lines of no more than 280 characters\n",
    "for i in range(7):\n",
    "    print(text_model.make_short_sentence(280))"
   ]
  },
  {
   "cell_type": "markdown",
   "metadata": {},
   "source": [
    "If you don't like the output, run the cell again: it will keep generating new text. Copy-and-paste any output that you do like into a markdown cell to preserve it.  \n",
    "\n",
    "You can slightly alter the code to 1.) make the poetic lines longer or shorter, 2.) increase or decrease the number of lines, and 3.) adjust the degree of novelty (the smaller the markov order or state, the more novel the output will be, sometimes at the expense of coherence):"
   ]
  },
  {
   "cell_type": "code",
   "execution_count": null,
   "metadata": {},
   "outputs": [],
   "source": [
    "import markovify #sample code from https://github.com/jsvine/markovify\n",
    "\n",
    "# Build the model.\n",
    "text_model = markovify.NewlineText(moon_poetry, state_size=1)\n",
    "\n",
    "#Change the number following \"range\" to specify how many poetic lines you want\n",
    "#Change the number following \"sentence\" to indicate how many characters you want per line\n",
    "#Change the value for state_size, above, to modify the markov order.\n",
    "for i in range(8):\n",
    "    print(text_model.make_short_sentence(200))"
   ]
  },
  {
   "cell_type": "raw",
   "metadata": {},
   "source": [
    "In the above code, I've slightly shortened the line length (from 280 characters to 200); increased the number of lines (from 7 to 8); and specified a markov model order of 1 for maximum novelty. Read the comments in the code (everything in green font) to see how and where to make these types of changes. \n",
    "\n",
    "As explained by the authors of Markovify, \"state size is a number of words the probability of a next word depends on.\" While the program's default state size is 2, you can change that to something else. Here's how you would indicate a state size of 3 in your code:\n",
    "\n",
    "text_model = markovify.Text(text, state_size=3\n",
    "\n",
    "For free verse, I'd suggest a markov order (or state size) of 1 or 2. "
   ]
  },
  {
   "cell_type": "markdown",
   "metadata": {},
   "source": [
    "Here's some sample output that I decided to retain because I found it compelling:\n",
    "\n",
    ">The tide of words too\n",
    ">to catch the moon may learn,\n",
    ">As mellow as a worm.\n",
    ">There is no more its swelling surge confines,\n",
    ">Shrunk to a blue-eyed hawk;\n",
    ">Her Bonnet is the moon is caught lightly,\n",
    ">Past the charred silos, past the Jade-gate Pass.\n",
    "\n",
    "I really like \"as mellow as a worm\"!\n",
    "\n",
    "Keep in mind that digital poets will often edit and revise output to make it more coherent or intentional, or just more of a collaboration between human and machine. Nanni Balestrini, as we saw last week, altered punctuation, pronouns, and even diction (generally substituting a cognate word for one proferred by the computer) in \"Tape Mark I.\" Carolyn Lamb, et al, in [\"A Taxonomy of Generative Poetry Techniques\"](https://archive.bridgesmathart.org/2016/bridges2016-195.pdf) call this process \"Human Enhancement\":\n",
    "\n",
    ">The most obvious way for a human to enhance computer-generated poetry is to edit the poetry >generator’s output. While this arguably invalidates the generator’s usefulness, it is an >established practice. John Cage, for instance, removed unwanted words from the output of his >algorithms. Computational text generation is seen by many as a \"jumping-off point\" from which >they acquire raw material.\n",
    "\n",
    "As one of your \"Going Further\" posts, you might subject output from Markovify to this kind of revision and copy-editing. Post the original free verse output along with your tweaked and edited version, explaining what you liked about the original and what interventions you made to further develop it. "
   ]
  },
  {
   "cell_type": "markdown",
   "metadata": {},
   "source": [
    "Now that we've experimented with the moon poetry corpus, let's markovify the sea poetry corpus. First let's take a look at what we've got in the original file:"
   ]
  },
  {
   "cell_type": "code",
   "execution_count": null,
   "metadata": {},
   "outputs": [],
   "source": [
    "sea_poetry = open('sea_poetry.txt').read()\n",
    "print(sea_poetry)"
   ]
  },
  {
   "cell_type": "markdown",
   "metadata": {},
   "source": [
    "We're now ready to generate some free verse based on the sea poems. We'll use the same block of code as before, the only difference being that we'll point the code to the sea poetry corpus instead of the moon poetry corpus (swapping out the \"moon_poetry\" variable for the \"sea_poetry\" variable):"
   ]
  },
  {
   "cell_type": "code",
   "execution_count": null,
   "metadata": {},
   "outputs": [],
   "source": [
    "import markovify #sample code from https://github.com/jsvine/markovify\n",
    "\n",
    "# Build the model.\n",
    "text_model = markovify.NewlineText(sea_poetry, state_size=1)\n",
    "\n",
    "#Change the number following \"range\" to specify how many poetic lines you want\n",
    "#Change the number following \"sentence\" to indicate how many characters you want per line\n",
    "#Change the value for state_size, above, to modify the markov order.\n",
    "for i in range(8):\n",
    "    print(text_model.make_short_sentence(200))"
   ]
  },
  {
   "cell_type": "markdown",
   "metadata": {},
   "source": [
    "Once again, keep re-running the cell until you get something you like. Then copy-and-paste it into a new markdown cell.  \n",
    "\n",
    "As one final experiment, we can combine the text models for two different texts. Study the following code, which creates a combined markov model from both the moon poetry corpus and the sea poetry corpus: "
   ]
  },
  {
   "cell_type": "code",
   "execution_count": null,
   "metadata": {},
   "outputs": [],
   "source": [
    "#Assign each model to a different variable and specify the state size:\n",
    "model_a = markovify.NewlineText(sea_poetry, state_size=2)\n",
    "model_b = markovify.NewlineText(moon_poetry, state_size=2)\n",
    "\n",
    "#Combine them into a new model called \"model_combo\"\n",
    "model_combo = markovify.combine([ model_a, model_b ], [ 1, 2 ])"
   ]
  },
  {
   "cell_type": "markdown",
   "metadata": {},
   "source": [
    "If you look at that final line of code in the above code cell, you'll see that there's a list structure at the end holding two elements, a \"1\" and a \"2\". Those values specify what weights to assign to each corpus. The value \"2\" applies to the moon poetry corpus, which is assigned to the \"model_b\" variable; the value \"1\" applies to the sea poetry corpus, which is assigned to the \"model_a\" variable (and occupies a parallel list position in the list to the immediate left of the numbers list). Together these numerical values indicate that the moon corpus is weighted more heavily than the sea corpus, meaning that moon themes and imagery predominate over sea themes and imagery. You can change those proportions by adjusting those values.  \n",
    "\n",
    "Let's run the next code cell, which uses the combined model (\"model_combo\") to generate poetic lines:"
   ]
  },
  {
   "cell_type": "code",
   "execution_count": null,
   "metadata": {},
   "outputs": [],
   "source": [
    "for i in range(8):\n",
    "    print(model_combo.make_short_sentence(200))"
   ]
  }
 ],
 "metadata": {
  "kernelspec": {
   "display_name": "Python 3",
   "language": "python",
   "name": "python3"
  },
  "language_info": {
   "codemirror_mode": {
    "name": "ipython",
    "version": 3
   },
   "file_extension": ".py",
   "mimetype": "text/x-python",
   "name": "python",
   "nbconvert_exporter": "python",
   "pygments_lexer": "ipython3",
   "version": "3.7.6"
  }
 },
 "nbformat": 4,
 "nbformat_minor": 2
}
